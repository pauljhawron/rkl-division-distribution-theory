{
 "cells": [
  {
   "cell_type": "markdown",
   "metadata": {},
   "source": [
    "## Commentary on Twitter:\n",
    "\n",
    "https://twitter.com/pjhawron/status/1440798472421052420"
   ]
  },
  {
   "cell_type": "markdown",
   "metadata": {},
   "source": [
    "# Import data and libraries\n",
    "\n",
    "#### Data from https://basketballdao.com and https://kongstats.com"
   ]
  },
  {
   "cell_type": "code",
   "execution_count": 1,
   "metadata": {},
   "outputs": [],
   "source": [
    "import pandas as pd\n",
    "import numpy as np\n",
    "import matplotlib.pyplot as plt\n",
    "import seaborn as sns\n",
    "import warnings \n",
    "\n",
    "warnings.filterwarnings(\"ignore\")\n",
    "% matplotlib inline"
   ]
  },
  {
   "cell_type": "code",
   "execution_count": 2,
   "metadata": {
    "scrolled": true
   },
   "outputs": [
    {
     "data": {
      "text/html": [
       "<div>\n",
       "<style scoped>\n",
       "    .dataframe tbody tr th:only-of-type {\n",
       "        vertical-align: middle;\n",
       "    }\n",
       "\n",
       "    .dataframe tbody tr th {\n",
       "        vertical-align: top;\n",
       "    }\n",
       "\n",
       "    .dataframe thead th {\n",
       "        text-align: right;\n",
       "    }\n",
       "</style>\n",
       "<table border=\"1\" class=\"dataframe\">\n",
       "  <thead>\n",
       "    <tr style=\"text-align: right;\">\n",
       "      <th></th>\n",
       "      <th>Cumulative Stat Rank</th>\n",
       "      <th>Price</th>\n",
       "      <th>Cumulative</th>\n",
       "      <th>Visual Rarity URL</th>\n",
       "      <th>Shooting</th>\n",
       "      <th>Finish</th>\n",
       "      <th>Defense</th>\n",
       "      <th>Vision</th>\n",
       "      <th>Background</th>\n",
       "      <th>Fur</th>\n",
       "      <th>...</th>\n",
       "      <th>Head</th>\n",
       "      <th>Head Accessory</th>\n",
       "      <th>Eyes</th>\n",
       "      <th>Jewellery</th>\n",
       "      <th>Owner Address</th>\n",
       "      <th>Number of Sales</th>\n",
       "      <th>Last Sale Date</th>\n",
       "      <th>Last Sale Price</th>\n",
       "      <th>Last List Date</th>\n",
       "      <th>Current Price</th>\n",
       "    </tr>\n",
       "    <tr>\n",
       "      <th>Kong ID</th>\n",
       "      <th></th>\n",
       "      <th></th>\n",
       "      <th></th>\n",
       "      <th></th>\n",
       "      <th></th>\n",
       "      <th></th>\n",
       "      <th></th>\n",
       "      <th></th>\n",
       "      <th></th>\n",
       "      <th></th>\n",
       "      <th></th>\n",
       "      <th></th>\n",
       "      <th></th>\n",
       "      <th></th>\n",
       "      <th></th>\n",
       "      <th></th>\n",
       "      <th></th>\n",
       "      <th></th>\n",
       "      <th></th>\n",
       "      <th></th>\n",
       "      <th></th>\n",
       "    </tr>\n",
       "  </thead>\n",
       "  <tbody>\n",
       "    <tr>\n",
       "      <th>0</th>\n",
       "      <td>2572.0</td>\n",
       "      <td></td>\n",
       "      <td>218</td>\n",
       "      <td>https://rarity.tools/rumble-kong-league/view/0</td>\n",
       "      <td>42</td>\n",
       "      <td>81</td>\n",
       "      <td>41</td>\n",
       "      <td>54</td>\n",
       "      <td>Gold</td>\n",
       "      <td>Grey</td>\n",
       "      <td>...</td>\n",
       "      <td>NaN</td>\n",
       "      <td>NaN</td>\n",
       "      <td>Bloodshot</td>\n",
       "      <td>NaN</td>\n",
       "      <td>0x465dca9995d6c2a81a9be80fbced5a770dee3dae</td>\n",
       "      <td>0</td>\n",
       "      <td></td>\n",
       "      <td></td>\n",
       "      <td></td>\n",
       "      <td></td>\n",
       "    </tr>\n",
       "    <tr>\n",
       "      <th>1</th>\n",
       "      <td>4113.0</td>\n",
       "      <td></td>\n",
       "      <td>204</td>\n",
       "      <td>https://rarity.tools/rumble-kong-league/view/1</td>\n",
       "      <td>40</td>\n",
       "      <td>59</td>\n",
       "      <td>53</td>\n",
       "      <td>52</td>\n",
       "      <td>Light Grey</td>\n",
       "      <td>Brown</td>\n",
       "      <td>...</td>\n",
       "      <td>Green Beret</td>\n",
       "      <td>NaN</td>\n",
       "      <td>Angry</td>\n",
       "      <td>NaN</td>\n",
       "      <td>0xc212fc9e1a61b8400e0323fde83ed1fe359e3312</td>\n",
       "      <td>0</td>\n",
       "      <td></td>\n",
       "      <td></td>\n",
       "      <td></td>\n",
       "      <td></td>\n",
       "    </tr>\n",
       "    <tr>\n",
       "      <th>2</th>\n",
       "      <td>2461.0</td>\n",
       "      <td></td>\n",
       "      <td>219</td>\n",
       "      <td>https://rarity.tools/rumble-kong-league/view/2</td>\n",
       "      <td>66</td>\n",
       "      <td>60</td>\n",
       "      <td>63</td>\n",
       "      <td>30</td>\n",
       "      <td>Light Blue</td>\n",
       "      <td>Grey</td>\n",
       "      <td>...</td>\n",
       "      <td>Green Beret</td>\n",
       "      <td>NaN</td>\n",
       "      <td>Closed</td>\n",
       "      <td>NaN</td>\n",
       "      <td>0x465dca9995d6c2a81a9be80fbced5a770dee3dae</td>\n",
       "      <td>0</td>\n",
       "      <td></td>\n",
       "      <td></td>\n",
       "      <td></td>\n",
       "      <td></td>\n",
       "    </tr>\n",
       "    <tr>\n",
       "      <th>3</th>\n",
       "      <td>1031.0</td>\n",
       "      <td></td>\n",
       "      <td>237</td>\n",
       "      <td>https://rarity.tools/rumble-kong-league/view/3</td>\n",
       "      <td>45</td>\n",
       "      <td>74</td>\n",
       "      <td>55</td>\n",
       "      <td>63</td>\n",
       "      <td>Brown</td>\n",
       "      <td>Pink</td>\n",
       "      <td>...</td>\n",
       "      <td>NaN</td>\n",
       "      <td>NaN</td>\n",
       "      <td>Wide Scar</td>\n",
       "      <td>NaN</td>\n",
       "      <td>0xba351b8e093c40df954b9328484036fb271b4d86</td>\n",
       "      <td>0</td>\n",
       "      <td></td>\n",
       "      <td></td>\n",
       "      <td></td>\n",
       "      <td></td>\n",
       "    </tr>\n",
       "    <tr>\n",
       "      <th>4</th>\n",
       "      <td>3889.0</td>\n",
       "      <td></td>\n",
       "      <td>206</td>\n",
       "      <td>https://rarity.tools/rumble-kong-league/view/4</td>\n",
       "      <td>46</td>\n",
       "      <td>45</td>\n",
       "      <td>55</td>\n",
       "      <td>60</td>\n",
       "      <td>Pink</td>\n",
       "      <td>White Noise</td>\n",
       "      <td>...</td>\n",
       "      <td>Cap Forward</td>\n",
       "      <td>NaN</td>\n",
       "      <td>Regular</td>\n",
       "      <td>NaN</td>\n",
       "      <td>0x05ae0683d8b39d13950c053e70538f5810737bc5</td>\n",
       "      <td>0</td>\n",
       "      <td></td>\n",
       "      <td></td>\n",
       "      <td></td>\n",
       "      <td></td>\n",
       "    </tr>\n",
       "  </tbody>\n",
       "</table>\n",
       "<p>5 rows × 22 columns</p>\n",
       "</div>"
      ],
      "text/plain": [
       "         Cumulative Stat Rank Price   Cumulative  \\\n",
       "Kong ID                                            \n",
       "0                      2572.0                218   \n",
       "1                      4113.0                204   \n",
       "2                      2461.0                219   \n",
       "3                      1031.0                237   \n",
       "4                      3889.0                206   \n",
       "\n",
       "                                      Visual Rarity URL  Shooting  Finish  \\\n",
       "Kong ID                                                                     \n",
       "0        https://rarity.tools/rumble-kong-league/view/0        42      81   \n",
       "1        https://rarity.tools/rumble-kong-league/view/1        40      59   \n",
       "2        https://rarity.tools/rumble-kong-league/view/2        66      60   \n",
       "3        https://rarity.tools/rumble-kong-league/view/3        45      74   \n",
       "4        https://rarity.tools/rumble-kong-league/view/4        46      45   \n",
       "\n",
       "         Defense  Vision  Background          Fur      ...              Head  \\\n",
       "Kong ID                                                ...                     \n",
       "0             41      54        Gold         Grey      ...               NaN   \n",
       "1             53      52  Light Grey        Brown      ...       Green Beret   \n",
       "2             63      30  Light Blue         Grey      ...       Green Beret   \n",
       "3             55      63       Brown         Pink      ...               NaN   \n",
       "4             55      60        Pink  White Noise      ...       Cap Forward   \n",
       "\n",
       "        Head Accessory       Eyes Jewellery  \\\n",
       "Kong ID                                       \n",
       "0                  NaN  Bloodshot       NaN   \n",
       "1                  NaN      Angry       NaN   \n",
       "2                  NaN     Closed       NaN   \n",
       "3                  NaN  Wide Scar       NaN   \n",
       "4                  NaN    Regular       NaN   \n",
       "\n",
       "                                      Owner Address Number of Sales  \\\n",
       "Kong ID                                                               \n",
       "0        0x465dca9995d6c2a81a9be80fbced5a770dee3dae               0   \n",
       "1        0xc212fc9e1a61b8400e0323fde83ed1fe359e3312               0   \n",
       "2        0x465dca9995d6c2a81a9be80fbced5a770dee3dae               0   \n",
       "3        0xba351b8e093c40df954b9328484036fb271b4d86               0   \n",
       "4        0x05ae0683d8b39d13950c053e70538f5810737bc5               0   \n",
       "\n",
       "        Last Sale Date  Last Sale Price Last List Date Current Price  \n",
       "Kong ID                                                               \n",
       "0                                                                     \n",
       "1                                                                     \n",
       "2                                                                     \n",
       "3                                                                     \n",
       "4                                                                     \n",
       "\n",
       "[5 rows x 22 columns]"
      ]
     },
     "execution_count": 2,
     "metadata": {},
     "output_type": "execute_result"
    }
   ],
   "source": [
    "data = pd.read_csv(\"rkl.csv\", index_col='Kong ID', nrows=10000)\n",
    "data.head()"
   ]
  },
  {
   "cell_type": "code",
   "execution_count": 3,
   "metadata": {
    "scrolled": true
   },
   "outputs": [
    {
     "name": "stdout",
     "output_type": "stream",
     "text": [
      "<class 'pandas.core.frame.DataFrame'>\n",
      "Int64Index: 10000 entries, 0 to 9999\n",
      "Data columns (total 22 columns):\n",
      "Cumulative Stat Rank    9999 non-null float64\n",
      "Price                   9999 non-null object\n",
      "Cumulative              10000 non-null int64\n",
      "Visual Rarity URL       10000 non-null object\n",
      "Shooting                10000 non-null int64\n",
      "Finish                  10000 non-null int64\n",
      "Defense                 10000 non-null int64\n",
      "Vision                  10000 non-null int64\n",
      "Background              10000 non-null object\n",
      "Fur                     10000 non-null object\n",
      "Clothes                 8235 non-null object\n",
      "Mouth                   10000 non-null object\n",
      "Head                    6622 non-null object\n",
      "Head Accessory          2768 non-null object\n",
      "Eyes                    10000 non-null object\n",
      "Jewellery               62 non-null object\n",
      "Owner Address           10000 non-null object\n",
      "Number of Sales         10000 non-null int64\n",
      "Last Sale Date          10000 non-null object\n",
      "Last Sale Price         10000 non-null object\n",
      "Last List Date          10000 non-null object\n",
      "Current Price           10000 non-null object\n",
      "dtypes: float64(1), int64(6), object(15)\n",
      "memory usage: 1.8+ MB\n"
     ]
    }
   ],
   "source": [
    "data.info()"
   ]
  },
  {
   "cell_type": "markdown",
   "metadata": {},
   "source": [
    "# Cumulative Boost Distribution"
   ]
  },
  {
   "cell_type": "code",
   "execution_count": 4,
   "metadata": {},
   "outputs": [
    {
     "data": {
      "text/plain": [
       "<matplotlib.axes._subplots.AxesSubplot at 0x1f162c0c3c8>"
      ]
     },
     "execution_count": 4,
     "metadata": {},
     "output_type": "execute_result"
    },
    {
     "data": {
      "image/png": "[encoded data removed]",
      "text/plain": [
       "<Figure size 432x288 with 1 Axes>"
      ]
     },
     "metadata": {},
     "output_type": "display_data"
    }
   ],
   "source": [
    "sns.distplot(data['Cumulative'])"
   ]
  },
  {
   "cell_type": "code",
   "execution_count": 9,
   "metadata": {},
   "outputs": [
    {
     "name": "stdout",
     "output_type": "stream",
     "text": [
      "197.7409\n"
     ]
    }
   ],
   "source": [
    "mean = data['Cumulative'].mean()\n",
    "print(mean)"
   ]
  },
  {
   "cell_type": "code",
   "execution_count": 10,
   "metadata": {},
   "outputs": [
    {
     "name": "stdout",
     "output_type": "stream",
     "text": [
      "31.38767410622485\n"
     ]
    }
   ],
   "source": [
    "sd = data['Cumulative'].std()\n",
    "print(sd)"
   ]
  },
  {
   "cell_type": "markdown",
   "metadata": {},
   "source": [
    "# Dividing divisions into groups of increasing size"
   ]
  },
  {
   "cell_type": "code",
   "execution_count": 11,
   "metadata": {},
   "outputs": [
    {
     "name": "stdout",
     "output_type": "stream",
     "text": [
      "248 Kongs\n",
      "~82 Teams\n"
     ]
    }
   ],
   "source": [
    "print(str(len(data[data['Cumulative'].between(mean+sd*2, 400, inclusive=True)])) + ' Kongs')\n",
    "print('~' + str(int(np.floor(len(data[data['Cumulative'].between(mean+sd*2, 400, inclusive=True)])/3))) + ' Teams')"
   ]
  },
  {
   "cell_type": "code",
   "execution_count": 12,
   "metadata": {},
   "outputs": [
    {
     "name": "stdout",
     "output_type": "stream",
     "text": [
      "441 Kongs\n",
      "~147 Teams\n"
     ]
    }
   ],
   "source": [
    "print(str(len(data[data['Cumulative'].between(mean+sd*1.5, mean+sd*2, inclusive=True)])) + ' Kongs')\n",
    "print('~' + str(int(np.floor(len(data[data['Cumulative'].between(mean+sd*1.5, mean+sd*2, inclusive=True)])/3))) + ' Teams')"
   ]
  },
  {
   "cell_type": "code",
   "execution_count": 13,
   "metadata": {},
   "outputs": [
    {
     "name": "stdout",
     "output_type": "stream",
     "text": [
      "819 Kongs\n",
      "~273 Teams\n"
     ]
    }
   ],
   "source": [
    "print(str(len(data[data['Cumulative'].between(mean+sd, mean+sd*1.5, inclusive=True)])) + ' Kongs')\n",
    "print('~' + str(int(np.floor(len(data[data['Cumulative'].between(mean+sd, mean+sd*1.5, inclusive=True)])/3))) + ' Teams')"
   ]
  },
  {
   "cell_type": "code",
   "execution_count": 14,
   "metadata": {},
   "outputs": [
    {
     "name": "stdout",
     "output_type": "stream",
     "text": [
      "1584 Kongs\n",
      "~528 Teams\n"
     ]
    }
   ],
   "source": [
    "print(str(len(data[data['Cumulative'].between(mean+sd*0.5, mean+sd, inclusive=True)])) + ' Kongs')\n",
    "print('~' + str(int(np.floor(len(data[data['Cumulative'].between(mean+sd*0.5, mean+sd, inclusive=True)])/3))) + ' Teams')"
   ]
  },
  {
   "cell_type": "code",
   "execution_count": 15,
   "metadata": {},
   "outputs": [
    {
     "name": "stdout",
     "output_type": "stream",
     "text": [
      "2923 Kongs\n",
      "~974 Teams\n"
     ]
    }
   ],
   "source": [
    "print(str(len(data[data['Cumulative'].between(mean-sd*0.25, mean+sd*0.5, inclusive=True)])) + ' Kongs')\n",
    "print('~' + str(int(np.floor(len(data[data['Cumulative'].between(mean-sd*0.25, mean+sd*0.5, inclusive=True)])/3))) + ' Teams')"
   ]
  },
  {
   "cell_type": "code",
   "execution_count": 16,
   "metadata": {},
   "outputs": [
    {
     "name": "stdout",
     "output_type": "stream",
     "text": [
      "3985 Kongs\n",
      "~1328 Teams\n"
     ]
    }
   ],
   "source": [
    "print(str(len(data[data['Cumulative'].between(0, mean-sd*0.25, inclusive=True)])) + ' Kongs')\n",
    "print('~' + str(int(np.floor(len(data[data['Cumulative'].between(0, mean-sd*0.25, inclusive=True)])/3))) + ' Teams')"
   ]
  },
  {
   "cell_type": "markdown",
   "metadata": {},
   "source": [
    "# Creating dataframe to plot"
   ]
  },
  {
   "cell_type": "code",
   "execution_count": 27,
   "metadata": {},
   "outputs": [],
   "source": [
    "filters = [\n",
    "    data['Cumulative'].between(mean+sd*2, 400, inclusive=True),\n",
    "    data['Cumulative'].between(mean+sd*1.5, mean+sd*2, inclusive=True),\n",
    "    data['Cumulative'].between(mean+sd, mean+sd*1.5, inclusive=True),\n",
    "    data['Cumulative'].between(mean+sd*0.5, mean+sd, inclusive=True),\n",
    "    data['Cumulative'].between(mean-sd*0.25, mean+sd*0.5, inclusive=True),\n",
    "    data['Cumulative'].between(0, mean-sd*0.25, inclusive=True)\n",
    "]\n",
    "\n",
    "values = [1, 2, 3, 4, 5, 6]"
   ]
  },
  {
   "cell_type": "code",
   "execution_count": 18,
   "metadata": {},
   "outputs": [],
   "source": [
    "data['Division'] = np.select(filters, values)"
   ]
  },
  {
   "cell_type": "code",
   "execution_count": 19,
   "metadata": {
    "scrolled": true
   },
   "outputs": [
    {
     "data": {
      "text/html": [
       "<div>\n",
       "<style scoped>\n",
       "    .dataframe tbody tr th:only-of-type {\n",
       "        vertical-align: middle;\n",
       "    }\n",
       "\n",
       "    .dataframe tbody tr th {\n",
       "        vertical-align: top;\n",
       "    }\n",
       "\n",
       "    .dataframe thead th {\n",
       "        text-align: right;\n",
       "    }\n",
       "</style>\n",
       "<table border=\"1\" class=\"dataframe\">\n",
       "  <thead>\n",
       "    <tr style=\"text-align: right;\">\n",
       "      <th></th>\n",
       "      <th>Division</th>\n",
       "      <th>Cumulative</th>\n",
       "    </tr>\n",
       "    <tr>\n",
       "      <th>Kong ID</th>\n",
       "      <th></th>\n",
       "      <th></th>\n",
       "    </tr>\n",
       "  </thead>\n",
       "  <tbody>\n",
       "    <tr>\n",
       "      <th>0</th>\n",
       "      <td>4</td>\n",
       "      <td>218</td>\n",
       "    </tr>\n",
       "    <tr>\n",
       "      <th>1</th>\n",
       "      <td>5</td>\n",
       "      <td>204</td>\n",
       "    </tr>\n",
       "    <tr>\n",
       "      <th>2</th>\n",
       "      <td>4</td>\n",
       "      <td>219</td>\n",
       "    </tr>\n",
       "    <tr>\n",
       "      <th>3</th>\n",
       "      <td>3</td>\n",
       "      <td>237</td>\n",
       "    </tr>\n",
       "    <tr>\n",
       "      <th>4</th>\n",
       "      <td>5</td>\n",
       "      <td>206</td>\n",
       "    </tr>\n",
       "  </tbody>\n",
       "</table>\n",
       "</div>"
      ],
      "text/plain": [
       "         Division  Cumulative\n",
       "Kong ID                      \n",
       "0               4         218\n",
       "1               5         204\n",
       "2               4         219\n",
       "3               3         237\n",
       "4               5         206"
      ]
     },
     "execution_count": 19,
     "metadata": {},
     "output_type": "execute_result"
    }
   ],
   "source": [
    "data[['Division', 'Cumulative']].head()"
   ]
  },
  {
   "cell_type": "code",
   "execution_count": 20,
   "metadata": {},
   "outputs": [
    {
     "data": {
      "text/plain": [
       "<matplotlib.axes._subplots.AxesSubplot at 0x1f1626e4630>"
      ]
     },
     "execution_count": 20,
     "metadata": {},
     "output_type": "execute_result"
    },
    {
     "data": {
      "image/png": "[encoded data removed]",
      "text/plain": [
       "<Figure size 432x288 with 1 Axes>"
      ]
     },
     "metadata": {},
     "output_type": "display_data"
    }
   ],
   "source": [
    "sns.set_style('darkgrid')\n",
    "sns.set_palette('plasma')\n",
    "sns.countplot(data['Division'])"
   ]
  },
  {
   "cell_type": "markdown",
   "metadata": {},
   "source": [
    "# Cumulative boost ranges for each division"
   ]
  },
  {
   "cell_type": "code",
   "execution_count": 29,
   "metadata": {
    "scrolled": true
   },
   "outputs": [
    {
     "name": "stdout",
     "output_type": "stream",
     "text": [
      "Divison 1: 260 to 400\n",
      "Divison 2: 244 to 260\n",
      "Divison 3: 229 to 244\n",
      "Divison 4: 213 to 229\n",
      "Divison 5: 189 to 213\n",
      "Divison 6: 0 to 189\n"
     ]
    }
   ],
   "source": [
    "print('Divison 1:', int(np.floor(mean+sd*2)), 'to', 400)\n",
    "print('Divison 2:', int(np.floor(mean+sd*1.5)), 'to', int(np.floor(mean+sd*2)))\n",
    "print('Divison 3:', int(np.floor(mean+sd)), 'to', int(np.floor(mean+sd*1.5)))\n",
    "print('Divison 4:', int(np.floor(mean+sd*0.5)), 'to', int(np.floor(mean+sd)))\n",
    "print('Divison 5:', int(np.floor(mean-sd*0.25)), 'to', int(np.floor(mean+sd*0.5)))\n",
    "print('Divison 6:', 0, 'to', int(np.floor(mean-sd*0.25)))"
   ]
  },
  {
   "cell_type": "markdown",
   "metadata": {},
   "source": [
    "# Stats table for hypothetical divisions"
   ]
  },
  {
   "cell_type": "code",
   "execution_count": 31,
   "metadata": {},
   "outputs": [
    {
     "data": {
      "text/html": [
       "<div>\n",
       "<style scoped>\n",
       "    .dataframe tbody tr th:only-of-type {\n",
       "        vertical-align: middle;\n",
       "    }\n",
       "\n",
       "    .dataframe tbody tr th {\n",
       "        vertical-align: top;\n",
       "    }\n",
       "\n",
       "    .dataframe thead th {\n",
       "        text-align: right;\n",
       "    }\n",
       "</style>\n",
       "<table border=\"1\" class=\"dataframe\">\n",
       "  <thead>\n",
       "    <tr style=\"text-align: right;\">\n",
       "      <th></th>\n",
       "      <th>Division</th>\n",
       "      <th>Floor Price</th>\n",
       "      <th>Min Boost</th>\n",
       "      <th>Max Boost</th>\n",
       "      <th>Total Kongs</th>\n",
       "      <th>Max Teams</th>\n",
       "    </tr>\n",
       "  </thead>\n",
       "  <tbody>\n",
       "    <tr>\n",
       "      <th>1</th>\n",
       "      <td>1</td>\n",
       "      <td>7.50</td>\n",
       "      <td>260</td>\n",
       "      <td>400</td>\n",
       "      <td>248</td>\n",
       "      <td>82</td>\n",
       "    </tr>\n",
       "    <tr>\n",
       "      <th>2</th>\n",
       "      <td>2</td>\n",
       "      <td>3.75</td>\n",
       "      <td>244</td>\n",
       "      <td>260</td>\n",
       "      <td>441</td>\n",
       "      <td>147</td>\n",
       "    </tr>\n",
       "    <tr>\n",
       "      <th>3</th>\n",
       "      <td>3</td>\n",
       "      <td>2.50</td>\n",
       "      <td>229</td>\n",
       "      <td>244</td>\n",
       "      <td>819</td>\n",
       "      <td>273</td>\n",
       "    </tr>\n",
       "    <tr>\n",
       "      <th>4</th>\n",
       "      <td>4</td>\n",
       "      <td>1.85</td>\n",
       "      <td>213</td>\n",
       "      <td>229</td>\n",
       "      <td>1584</td>\n",
       "      <td>528</td>\n",
       "    </tr>\n",
       "    <tr>\n",
       "      <th>5</th>\n",
       "      <td>5</td>\n",
       "      <td>1.45</td>\n",
       "      <td>189</td>\n",
       "      <td>213</td>\n",
       "      <td>2923</td>\n",
       "      <td>974</td>\n",
       "    </tr>\n",
       "    <tr>\n",
       "      <th>6</th>\n",
       "      <td>6</td>\n",
       "      <td>1.44</td>\n",
       "      <td>0</td>\n",
       "      <td>189</td>\n",
       "      <td>3985</td>\n",
       "      <td>1328</td>\n",
       "    </tr>\n",
       "  </tbody>\n",
       "</table>\n",
       "</div>"
      ],
      "text/plain": [
       "   Division  Floor Price  Min Boost  Max Boost  Total Kongs  Max Teams\n",
       "1         1         7.50        260        400          248         82\n",
       "2         2         3.75        244        260          441        147\n",
       "3         3         2.50        229        244          819        273\n",
       "4         4         1.85        213        229         1584        528\n",
       "5         5         1.45        189        213         2923        974\n",
       "6         6         1.44          0        189         3985       1328"
      ]
     },
     "execution_count": 31,
     "metadata": {},
     "output_type": "execute_result"
    }
   ],
   "source": [
    "div_temp = {'Division': [1, 2, 3, 4, 5, 6],\n",
    "            'Floor Price': [7.5, 3.75, 2.5, 1.85, 1.45, 1.44],\n",
    "            'Min Boost': [int(np.floor(mean+sd*2)), int(np.floor(mean+sd*1.5)), int(np.floor(mean+sd)), int(np.floor(mean+sd*0.5)), int(np.floor(mean-sd*0.25)), 0],\n",
    "            'Max Boost': [400, int(np.floor(mean+sd*2)), int(np.floor(mean+sd*1.5)), int(np.floor(mean+sd)), int(np.floor(mean+sd*0.5)), int(np.floor(mean-sd*0.25))],\n",
    "            'Total Kongs': [len(data[data['Cumulative'].between(mean+sd*2, 400, inclusive=True)]), len(data[data['Cumulative'].between(mean+sd*1.5, mean+sd*2, inclusive=True)]), len(data[data['Cumulative'].between(mean+sd, mean+sd*1.5, inclusive=True)]), len(data[data['Cumulative'].between(mean+sd*0.5, mean+sd, inclusive=True)]), len(data[data['Cumulative'].between(mean-sd*0.25, mean+sd*0.5, inclusive=True)]), len(data[data['Cumulative'].between(0, mean-sd*0.25, inclusive=True)])],\n",
    "            'Max Teams': [int(np.floor(len(data[data['Cumulative'].between(mean+sd*2, 400, inclusive=True)])/3)), int(np.floor(len(data[data['Cumulative'].between(mean+sd*1.5, mean+sd*2, inclusive=True)])/3)), int(np.floor(len(data[data['Cumulative'].between(mean+sd, mean+sd*1.5, inclusive=True)])/3)), int(np.floor(len(data[data['Cumulative'].between(mean+sd*0.5, mean+sd, inclusive=True)])/3)), int(np.floor(len(data[data['Cumulative'].between(mean-sd*0.25, mean+sd*0.5, inclusive=True)])/3)), int(np.floor(len(data[data['Cumulative'].between(0, mean-sd*0.25, inclusive=True)])/3))]\n",
    "}\n",
    "division_stats = pd.DataFrame(div_temp, index=div_temp['Division'])\n",
    "division_stats"
   ]
  }
 ],
 "metadata": {
  "kernelspec": {
   "display_name": "Python 3",
   "language": "python",
   "name": "python3"
  },
  "language_info": {
   "codemirror_mode": {
    "name": "ipython",
    "version": 3
   },
   "file_extension": ".py",
   "mimetype": "text/x-python",
   "name": "python",
   "nbconvert_exporter": "python",
   "pygments_lexer": "ipython3",
   "version": "3.6.6"
  }
 },
 "nbformat": 4,
 "nbformat_minor": 2
}
